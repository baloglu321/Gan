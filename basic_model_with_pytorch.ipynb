{
  "nbformat": 4,
  "nbformat_minor": 0,
  "metadata": {
    "colab": {
      "provenance": [],
      "gpuType": "T4"
    },
    "kernelspec": {
      "name": "python3",
      "display_name": "Python 3"
    },
    "language_info": {
      "name": "python"
    },
    "accelerator": "GPU"
  },
  "cells": [
    {
      "cell_type": "code",
      "execution_count": 40,
      "metadata": {
        "id": "gIaThy5NPmL-"
      },
      "outputs": [],
      "source": [
        "#import the libraries\n",
        "import torch,pdb\n",
        "from torch.utils.data import DataLoader\n",
        "from torch import nn\n",
        "from torchvision import transforms\n",
        "from torchvision.datasets import MNIST\n",
        "from torchvision.utils import make_grid\n",
        "from tqdm.auto import tqdm\n",
        "import matplotlib.pyplot as plt"
      ]
    },
    {
      "cell_type": "code",
      "source": [
        "def show(tensor,ch=1,size=(28,28),num=16):\n",
        "  #tensor: 128x784 (batchsize,num of image pixels)\n",
        "  data=tensor.detach().cpu().view(-1,ch,*size)\n",
        "  grid=make_grid(data[:num],nrow=4).permute(1,2,0)\n",
        "  plt.imshow(grid)\n",
        "  plt.show()\n"
      ],
      "metadata": {
        "id": "Csd5w18QRqX2"
      },
      "execution_count": 41,
      "outputs": []
    },
    {
      "cell_type": "code",
      "source": [
        "#setup of the main parameter and hyper parameters\n",
        "epochs=500\n",
        "cur_step=0\n",
        "inf_ostep=300\n",
        "mean_gen_loss=0\n",
        "mean_disc_loss=0\n",
        "\n",
        "z_dim=64\n",
        "lr=0.00001\n",
        "loss_func = nn.BCEWithLogitsLoss()\n",
        "\n",
        "bs=128\n",
        "device='cuda'\n",
        "dataloader=DataLoader(MNIST('.',download=True,transform=transforms.ToTensor()),shuffle=True,batch_size=bs)\n",
        "\n",
        "#number of steps =60000/128=468.75\n"
      ],
      "metadata": {
        "id": "E5p7DMlWUb36"
      },
      "execution_count": 42,
      "outputs": []
    },
    {
      "cell_type": "code",
      "source": [
        "#decleare our models\n",
        "\n",
        "#Generator\n",
        "\n",
        "def genBlock(inp,out):\n",
        "  return nn.Sequential(\n",
        "      nn.Linear(inp,out),\n",
        "      nn.BatchNorm1d(out),\n",
        "      nn.ReLU(inplace=True)\n",
        "  )\n",
        "\n",
        "class Generator (nn.Module):\n",
        "  def __init__(self,z_dim=64,i_dim=784,h_dim=128):\n",
        "    super().__init__()\n",
        "    self.gen=nn.Sequential(\n",
        "        genBlock(z_dim,h_dim), #64,128\n",
        "        genBlock(h_dim,h_dim*2),  #128,256\n",
        "        genBlock(h_dim*2,h_dim*4),  #256,512\n",
        "        genBlock(h_dim*4,h_dim*8),  #512,1024\n",
        "        nn.Linear(h_dim*8,i_dim),  #1024,784\n",
        "        nn.Sigmoid(),\n",
        "        )\n",
        "  def forward(self,noise):\n",
        "    return self.gen(noise)\n",
        "\n",
        "\n",
        "def gen_noise(number,z_dim):\n",
        "  return torch.randn(number,z_dim).to(device)\n"
      ],
      "metadata": {
        "id": "Z54YTCLfuGa_"
      },
      "execution_count": 43,
      "outputs": []
    },
    {
      "cell_type": "code",
      "source": [
        "#Discriminator\n",
        "def discBlock(inp,out):\n",
        "    return nn.Sequential(\n",
        "      nn.Linear(inp,out),\n",
        "      nn.LeakyReLU(0.2)\n",
        "  )\n",
        "\n",
        "class Discriminator(nn.Module):\n",
        "  def __init__(self,i_dim=784,h_dim=256):\n",
        "    super().__init__()\n",
        "    self.disc=nn.Sequential(\n",
        "        discBlock(i_dim,h_dim*4), #784x1024\n",
        "        discBlock(h_dim*4,h_dim*2), #1024x512\n",
        "        discBlock(h_dim*2,h_dim),   #512x256\n",
        "        nn.Linear(h_dim,1) #256x1\n",
        "      )\n",
        "\n",
        "  def forward(self,image):\n",
        "    return self.disc(image)\n"
      ],
      "metadata": {
        "id": "SQ93Z-s00VbN"
      },
      "execution_count": 44,
      "outputs": []
    },
    {
      "cell_type": "code",
      "source": [
        "gen=Generator(z_dim).to(device)\n",
        "gen_opt= torch.optim.Adam(gen.parameters(),lr=lr)   #optimizer\n",
        "disc = Discriminator().to(device)\n",
        "disc_optim= torch.optim.Adam(disc.parameters(),lr=lr)\n"
      ],
      "metadata": {
        "id": "2lT3fiJR3luh"
      },
      "execution_count": 45,
      "outputs": []
    },
    {
      "cell_type": "code",
      "source": [
        "gen"
      ],
      "metadata": {
        "colab": {
          "base_uri": "https://localhost:8080/"
        },
        "id": "HTP5GCYu7QXz",
        "outputId": "58192f4e-f6b2-4160-9b40-b10df8a8b948"
      },
      "execution_count": 46,
      "outputs": [
        {
          "output_type": "execute_result",
          "data": {
            "text/plain": [
              "Generator(\n",
              "  (gen): Sequential(\n",
              "    (0): Sequential(\n",
              "      (0): Linear(in_features=64, out_features=128, bias=True)\n",
              "      (1): BatchNorm1d(128, eps=1e-05, momentum=0.1, affine=True, track_running_stats=True)\n",
              "      (2): ReLU(inplace=True)\n",
              "    )\n",
              "    (1): Sequential(\n",
              "      (0): Linear(in_features=128, out_features=256, bias=True)\n",
              "      (1): BatchNorm1d(256, eps=1e-05, momentum=0.1, affine=True, track_running_stats=True)\n",
              "      (2): ReLU(inplace=True)\n",
              "    )\n",
              "    (2): Sequential(\n",
              "      (0): Linear(in_features=256, out_features=512, bias=True)\n",
              "      (1): BatchNorm1d(512, eps=1e-05, momentum=0.1, affine=True, track_running_stats=True)\n",
              "      (2): ReLU(inplace=True)\n",
              "    )\n",
              "    (3): Sequential(\n",
              "      (0): Linear(in_features=512, out_features=1024, bias=True)\n",
              "      (1): BatchNorm1d(1024, eps=1e-05, momentum=0.1, affine=True, track_running_stats=True)\n",
              "      (2): ReLU(inplace=True)\n",
              "    )\n",
              "    (4): Linear(in_features=1024, out_features=784, bias=True)\n",
              "    (5): Sigmoid()\n",
              "  )\n",
              ")"
            ]
          },
          "metadata": {},
          "execution_count": 46
        }
      ]
    },
    {
      "cell_type": "code",
      "source": [
        "disc"
      ],
      "metadata": {
        "colab": {
          "base_uri": "https://localhost:8080/"
        },
        "id": "dDyTxdhA7ims",
        "outputId": "43ed975a-8064-4604-9f5d-7aa298c02967"
      },
      "execution_count": 47,
      "outputs": [
        {
          "output_type": "execute_result",
          "data": {
            "text/plain": [
              "Discriminator(\n",
              "  (disc): Sequential(\n",
              "    (0): Sequential(\n",
              "      (0): Linear(in_features=784, out_features=1024, bias=True)\n",
              "      (1): LeakyReLU(negative_slope=0.2)\n",
              "    )\n",
              "    (1): Sequential(\n",
              "      (0): Linear(in_features=1024, out_features=512, bias=True)\n",
              "      (1): LeakyReLU(negative_slope=0.2)\n",
              "    )\n",
              "    (2): Sequential(\n",
              "      (0): Linear(in_features=512, out_features=256, bias=True)\n",
              "      (1): LeakyReLU(negative_slope=0.2)\n",
              "    )\n",
              "    (3): Linear(in_features=256, out_features=1, bias=True)\n",
              "  )\n",
              ")"
            ]
          },
          "metadata": {},
          "execution_count": 47
        }
      ]
    },
    {
      "cell_type": "code",
      "source": [
        "x,y=next(iter(dataloader))\n",
        "print(x.shape,y.shape)\n",
        "print(y[:10])\n",
        "noise=gen_noise(bs,z_dim)\n",
        "fake=gen(noise)\n",
        "show(fake)"
      ],
      "metadata": {
        "colab": {
          "base_uri": "https://localhost:8080/",
          "height": 469
        },
        "id": "LgYV9tvW7r5O",
        "outputId": "f8d94ca2-94dc-44cd-cebc-0f35f991262f"
      },
      "execution_count": 48,
      "outputs": [
        {
          "output_type": "stream",
          "name": "stdout",
          "text": [
            "torch.Size([128, 1, 28, 28]) torch.Size([128])\n",
            "tensor([0, 5, 9, 5, 7, 5, 6, 1, 0, 3])\n"
          ]
        },
        {
          "output_type": "display_data",
          "data": {
            "text/plain": [
              "<Figure size 640x480 with 1 Axes>"
            ],
            "image/png": "[encoded data removed]"
          },
          "metadata": {}
        }
      ]
    },
    {
      "cell_type": "code",
      "source": [],
      "metadata": {
        "id": "YW9C5ky4CTZJ"
      },
      "execution_count": 48,
      "outputs": []
    }
  ]
}